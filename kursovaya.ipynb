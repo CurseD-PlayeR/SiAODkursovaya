{
  "cells": [
    {
      "cell_type": "markdown",
      "metadata": {
        "id": "KNHPLAJmwH2m"
      },
      "source": []
    },
    {
      "cell_type": "markdown",
      "metadata": {
        "id": "k2ltlltfwKw3"
      },
      "source": [
        "#Курсовая работа по дициплине \"Структуры и алгоритмы обработки данных\"\n",
        "##Выполнил студент группы БФИ2203 Нечаев Олег"
      ]
    },
    {
      "cell_type": "markdown",
      "metadata": {
        "id": "VfS48sckwxY-"
      },
      "source": [
        "Импортируем библиотеки:"
      ]
    },
    {
      "cell_type": "code",
      "execution_count": 5,
      "metadata": {
        "colab": {
          "base_uri": "https://localhost:8080/"
        },
        "id": "1Hvz1_V4uu6_",
        "outputId": "a44ed638-3f74-41aa-c269-e5bcb0ddd432"
      },
      "outputs": [
        {
          "name": "stdout",
          "output_type": "stream",
          "text": [
            "Drive already mounted at /content/drive; to attempt to forcibly remount, call drive.mount(\"/content/drive\", force_remount=True).\n"
          ]
        }
      ],
      "source": [
        "from google.colab import drive\n",
        "import pandas as pd\n",
        "import csv\n",
        "from collections import defaultdict\n",
        "drive.mount('/content/drive')"
      ]
    },
    {
      "cell_type": "markdown",
      "metadata": {
        "id": "q9afvj8nnTRD"
      },
      "source": [
        "Записать данные в файл:"
      ]
    },
    {
      "cell_type": "code",
      "execution_count": 6,
      "metadata": {
        "id": "YKH5LZ18C9_V"
      },
      "outputs": [],
      "source": [
        "# Данные для записи в CSV файл\n",
        "data = [\n",
        "    [\"Order num\", \"Order date\", \"Product name\", \"Product category\", \"Sells count\", \"Cost per unit\", \"Total cost\"],\n",
        "    [345656, \"20.01.2023\", \"Apple iPhone 15 Pro Max\", \"Apple iPhone\", 25, 108780, 2719500],\n",
        "    [345657, \"18.01.2023\", \"Apple iPhone 15 Pro\", \"Apple iPhone\", 21, 100500, 2110500],\n",
        "    [345658, \"22.08.2023\", \"Apple iPhone 15 Plus\", \"Apple iPhone\", 14, 92300, 1292200],\n",
        "    [345659, \"03.11.2023\", \"Apple iPhone 15\", \"Apple iPhone\", 30, 78300, 2349000],\n",
        "    [345660, \"24.06.2023\", \"Apple iPhone 14 Pro Max\", \"Apple iPhone\", 28, 108040, 3025120],\n",
        "    [345661, \"25.06.2023\", \"Apple iPhone 14 Pro\", \"Apple iPhone\", 24, 95560, 2293440],\n",
        "    [345662, \"16.07.2023\", \"Apple iPhone 14 Plus\", \"Apple iPhone\", 18, 76800, 1382400],\n",
        "    [345663, \"27.01.2023\", \"Apple iPhone 14\", \"Apple iPhone\", 36, 71200, 2563200],\n",
        "    [345664, \"20.03.2023\", \"Apple MacBook Air M3 13''\", \"Apple MacBook\", 12, 107580, 1290960],\n",
        "    [345665, \"24.09.2023\", \"Apple MacBook Air M3 15''\", \"Apple MacBook\", 23, 128400, 2953200],\n",
        "    [345666, \"30.01.2023\", \"Apple MacBook Air M2 13''\", \"Apple MacBook\", 11, 121980, 1341780],\n",
        "    [345667, \"31.12.2023\", \"Apple MacBook Air M2 15''\", \"Apple MacBook\", 15, 114280, 1714200],\n",
        "    [345668, \"18.07.2023\", \"Apple MacBook Air M1 13''\", \"Apple MacBook\", 9, 71600, 644400],\n",
        "    [345669, \"06.10.2023\", \"Apple Watch Series 9\", \"Apple Watch\", 8, 32600, 260800],\n",
        "    [345670, \"03.02.2023\", \"Apple Watch Series 8\", \"Apple Watch\", 12, 28590, 343080],\n",
        "    [345671, \"24.02.2023\", \"Apple Watch Ultra 2\", \"Apple Watch\", 7, 72300, 506100],\n",
        "    [345672, \"16.05.2023\", \"Apple Watch Ultra 1\", \"Apple Watch\", 4, 66230, 264920],\n",
        "    [345673, \"19.04.2023\", \"AirPods 3\", \"AirPods\", 34, 16300, 554200],\n",
        "    [345674, \"27.12.2023\", \"AirPods 2\", \"AirPods\", 10, 10450, 104500],\n",
        "    [345675, \"18.11.2023\", \"AirPods Pro 2\", \"AirPods\", 27, 22480, 606960],\n",
        "]\n",
        "\n",
        "file_name = 'kursovaya.csv'\n",
        "with open(file_name, 'w', newline='', encoding='utf-8') as csvfile:\n",
        "    writer = csv.writer(csvfile)\n",
        "    writer.writerows(data)"
      ]
    },
    {
      "cell_type": "markdown",
      "metadata": {
        "id": "jFyM_OhnnaNU"
      },
      "source": [
        "Основная часть программы:"
      ]
    },
    {
      "cell_type": "code",
      "execution_count": 7,
      "metadata": {
        "colab": {
          "base_uri": "https://localhost:8080/"
        },
        "id": "_AHm_H6OxHZh",
        "outputId": "c5fbd2b8-5f22-4d05-f61d-79e2c09dc501"
      },
      "outputs": [
        {
          "name": "stdout",
          "output_type": "stream",
          "text": [
            "Drive already mounted at /content/drive; to attempt to forcibly remount, call drive.mount(\"/content/drive\", force_remount=True).\n",
            "Общая выручка магазина: 28320460.0\n",
            "Товар с наибольшим количеством продаж: Apple iPhone 14\n",
            "Товар с наибольшей выручкой: Apple iPhone 14 Pro Max\n",
            "Отчет:\n",
            "Название товара                Количество      Общая выручка   Доля в выручке \n",
            "AirPods 2                      10              104500.0        0.368991%      \n",
            "AirPods 3                      34              554200.0        1.956889%      \n",
            "AirPods Pro 2                  27              606960.0        2.143186%      \n",
            "Apple MacBook Air M1 13''      9               644400.0        2.275387%      \n",
            "Apple MacBook Air M2 13''      11              1341780.0       4.737847%      \n",
            "Apple MacBook Air M2 15''      15              1714200.0       6.052868%      \n",
            "Apple MacBook Air M3 13''      12              1290960.0       4.558401%      \n",
            "Apple MacBook Air M3 15''      23              2953200.0       10.427797%     \n",
            "Apple Watch Series 8           12              343080.0        1.211421%      \n",
            "Apple Watch Series 9           8               260800.0        0.920889%      \n",
            "Apple Watch Ultra 1            4               264920.0        0.935437%      \n",
            "Apple Watch Ultra 2            7               506100.0        1.787047%      \n",
            "Apple iPhone 14                36              2563200.0       9.050700%      \n",
            "Apple iPhone 14 Plus           18              1382400.0       4.881277%      \n",
            "Apple iPhone 14 Pro            24              2293440.0       8.098174%      \n",
            "Apple iPhone 14 Pro Max        28              3025120.0       10.681747%     \n",
            "Apple iPhone 15                30              2349000.0       8.294357%      \n",
            "Apple iPhone 15 Plus           14              1292200.0       4.562779%      \n",
            "Apple iPhone 15 Pro            21              2110500.0       7.452209%      \n",
            "Apple iPhone 15 Pro Max        25              2719500.0       9.602598%      \n"
          ]
        }
      ],
      "source": [
        "drive.mount('/content/drive')\n",
        "# Алгоритм сортировки кучей (Heap Sort)\n",
        "def heapify(arr, n, i):\n",
        "    largest = i\n",
        "    l = 2 * i + 1\n",
        "    r = 2 * i + 2\n",
        "\n",
        "    if l < n and arr[i][4] < arr[l][4]:\n",
        "        largest = l\n",
        "\n",
        "    if r < n and arr[largest][4] < arr[r][4]:\n",
        "        largest = r\n",
        "\n",
        "    if largest != i:\n",
        "        arr[i], arr[largest] = arr[largest], arr[i]\n",
        "        heapify(arr, n, largest)\n",
        "\n",
        "def heap_sort(arr):\n",
        "    n = len(arr)\n",
        "\n",
        "    for i in range(n, -1, -1):\n",
        "        heapify(arr, n, i)\n",
        "\n",
        "    for i in range(n-1, 0, -1):\n",
        "        arr[i], arr[0] = arr[0], arr[i]\n",
        "        heapify(arr, i, 0)\n",
        "\n",
        "# Алгоритм итеративного поиска\n",
        "def iterative_search(arr, target):\n",
        "    for i in range(len(arr)):\n",
        "        if arr[i][0] == target:\n",
        "            return i\n",
        "    return -1\n",
        "\n",
        "# Чтение данных из CSV файла и обработка\n",
        "def process_sales_data(file_name):\n",
        "    sales_data = []\n",
        "    total_revenue = 0\n",
        "    with open(file_name, 'r') as file:\n",
        "        next(file) # Пропускаем заголовок\n",
        "        for line in file:\n",
        "            parts = line.strip().split(',')\n",
        "            order_num = int(parts[0])\n",
        "            date = parts[1]\n",
        "            product_name = parts[2]\n",
        "            category = parts[3]\n",
        "            quantity = int(parts[4])\n",
        "            unit_price = float(parts[5])\n",
        "            total_price = float(parts[6])\n",
        "\n",
        "            sales_data.append([order_num, date, product_name, category, quantity, unit_price, total_price])\n",
        "            total_revenue += total_price\n",
        "\n",
        "    # Находим товар с наибольшим количеством продаж\n",
        "    max_sales_index = max(range(len(sales_data)), key=lambda i: sales_data[i][4])\n",
        "    max_sales_product = sales_data[max_sales_index][2]\n",
        "\n",
        "    # Сортируем данные по названиям продуктов в алфавитном порядке\n",
        "    sales_data.sort(key=lambda x: x[2])\n",
        "\n",
        "    # Находим товар с наибольшей выручкой\n",
        "    max_revenue_product = max(sales_data, key=lambda x: x[6])[2]\n",
        "\n",
        "    # Рассчитываем долю каждого продукта в общей выручке\n",
        "    product_share = calculate_product_share(sales_data, total_revenue)\n",
        "\n",
        "    # Составляем отчет\n",
        "    report = {\n",
        "        \"total_revenue\": total_revenue,\n",
        "        \"max_sales_product\": max_sales_product,\n",
        "        \"max_revenue_product\": max_revenue_product,\n",
        "        \"sales_data\": sales_data,\n",
        "        \"product_share\": product_share\n",
        "    }\n",
        "\n",
        "    return report\n",
        "\n",
        "# Функция для рассчета доли каждого продукта в общей выручке\n",
        "def calculate_product_share(sales_data, total_revenue):\n",
        "    product_share = {}\n",
        "    for data in sales_data:\n",
        "        product_name = data[2]\n",
        "        revenue = data[6]\n",
        "        share = revenue / total_revenue\n",
        "        product_share[product_name] = share\n",
        "    return product_share\n",
        "\n",
        "# Функция для вывода данных о товаре по номеру заказа\n",
        "def print_order_details(sales_data, order_num):\n",
        "    index = iterative_search(sales_data, order_num)\n",
        "    if index != -1:\n",
        "        data = sales_data[index]\n",
        "        print(\"{:<15} {:<15} {:<30} {:<15} {:<15} {:<15} {:<15}\".format(\n",
        "            \"Номер заказа\", \"Дата заказа\", \"Название товара\", \"Категория\", \"Количество\", \"Цена за единицу\", \"Общая стоимость\"))\n",
        "        print(\"{:<15} {:<15} {:<30} {:<15} {:<15} {:<15} {:<15}\".format(\n",
        "            data[0], data[1], data[2], data[3], data[4], data[5], data[6]))\n",
        "    else:\n",
        "        print(f\"Заказ с номером {order_num} не найден.\")\n",
        "\n",
        "file_name = \"kursovaya.csv\"\n",
        "report = process_sales_data(file_name)\n",
        "total_revenue = report[\"total_revenue\"]\n",
        "sales_data = report[\"sales_data\"]\n",
        "product_share = report[\"product_share\"]\n",
        "\n",
        "print(\"Общая выручка магазина:\", total_revenue)\n",
        "print(\"Товар с наибольшим количеством продаж:\", report[\"max_sales_product\"])\n",
        "print(\"Товар с наибольшей выручкой:\", report[\"max_revenue_product\"])\n",
        "print(\"Отчет:\")\n",
        "print(\"{:<30} {:<15} {:<15} {:<15}\".format(\"Название товара\", \"Количество\", \"Общая выручка\", \"Доля в выручке\"))\n",
        "for data in sales_data:\n",
        "    product_name = data[2]\n",
        "    quantity = data[4]\n",
        "    revenue = data[6]\n",
        "    share = product_share[product_name]\n",
        "    print(\"{:<30} {:<15} {:<15} {:<15%}\".format(product_name, quantity, revenue, share))"
      ]
    },
    {
      "cell_type": "markdown",
      "metadata": {
        "id": "TdbwZB1MxYls"
      },
      "source": [
        "Запрос у пользователя номера заказа для вывода товара и данных о нём:"
      ]
    },
    {
      "cell_type": "code",
      "execution_count": 8,
      "metadata": {
        "colab": {
          "base_uri": "https://localhost:8080/"
        },
        "id": "AGsBm2PFxXlj",
        "outputId": "abd559ce-345f-459f-fbee-3a0f056a10d4"
      },
      "outputs": [
        {
          "name": "stdout",
          "output_type": "stream",
          "text": [
            "Введите номер заказа: 345665\n",
            "Детали заказа с номером 345665\n",
            "Номер заказа    Дата заказа     Название товара                Категория       Количество      Цена за единицу Общая стоимость\n",
            "345665          24.09.2023      Apple MacBook Air M3 15''      Apple MacBook   23              128400.0        2953200.0      \n"
          ]
        }
      ],
      "source": [
        "order_number_to_search = int(input(\"Введите номер заказа: \"))\n",
        "print(\"Детали заказа с номером\", order_number_to_search)\n",
        "print_order_details(sales_data, order_number_to_search)"
      ]
    }
  ],
  "metadata": {
    "colab": {
      "provenance": []
    },
    "kernelspec": {
      "display_name": "Python 3",
      "name": "python3"
    },
    "language_info": {
      "name": "python"
    }
  },
  "nbformat": 4,
  "nbformat_minor": 0
}
